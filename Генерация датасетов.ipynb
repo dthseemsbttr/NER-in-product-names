{
 "cells": [
  {
   "cell_type": "markdown",
   "metadata": {},
   "source": [
    "### Импортирование необходимых библиотек"
   ]
  },
  {
   "cell_type": "code",
   "execution_count": 1,
   "metadata": {
    "scrolled": true
   },
   "outputs": [],
   "source": [
    "import json\n",
    "import nltk\n",
    "import pymorphy2\n",
    "import pandas as pd\n",
    "from pymorphy2.shapes import is_punctuation"
   ]
  },
  {
   "cell_type": "markdown",
   "metadata": {},
   "source": [
    "### Перемешивание исходного файла"
   ]
  },
  {
   "cell_type": "code",
   "execution_count": 2,
   "metadata": {},
   "outputs": [],
   "source": [
    "df = pd.read_json('supl_biz_157k.json')\n",
    "df = df.iloc[200:] #первые 200 слов обрезаются, так как в начале ручной разметки они были перенесены в файл вручную\n",
    "df = df.sample(frac=1, random_state=1)\n",
    "df.to_json('shuffled.json')"
   ]
  },
  {
   "cell_type": "code",
   "execution_count": 3,
   "metadata": {},
   "outputs": [],
   "source": [
    "df = pd.read_json('shuffled.json')\n",
    "df = df[200:]"
   ]
  },
  {
   "cell_type": "markdown",
   "metadata": {},
   "source": [
    "### Создание датасета для дополнительной разметки"
   ]
  },
  {
   "cell_type": "code",
   "execution_count": 4,
   "metadata": {},
   "outputs": [
    {
     "name": "stderr",
     "output_type": "stream",
     "text": [
      "<ipython-input-4-705652c3dcf4>:1: UserWarning: Pandas requires version '1.4.3' or newer of 'xlsxwriter' (version '1.2.9' currently installed).\n",
      "  df.loc[29620:].head(15000).to_excel('for_bert_excel.xlsx', index=False)\n"
     ]
    }
   ],
   "source": [
    "df.loc[29620:].head(15000).to_excel('for_bert_excel.xlsx', index=False)"
   ]
  },
  {
   "cell_type": "markdown",
   "metadata": {},
   "source": [
    "### Создание датасета для первой модели"
   ]
  },
  {
   "cell_type": "code",
   "execution_count": 5,
   "metadata": {},
   "outputs": [],
   "source": [
    "new_df = df.copy()\n",
    "new_df['Words'] = new_df['Title'].apply(lambda x: list(filter(lambda y: not is_punctuation(y), nltk.word_tokenize(x))))\n",
    "new_df = new_df[['Title', 'Words']].explode('Words') #каждое слово из названия на новой строке"
   ]
  },
  {
   "cell_type": "code",
   "execution_count": 6,
   "metadata": {},
   "outputs": [
    {
     "name": "stderr",
     "output_type": "stream",
     "text": [
      "<ipython-input-6-b39da3aced95>:1: UserWarning: Pandas requires version '1.4.3' or newer of 'xlsxwriter' (version '1.2.9' currently installed).\n",
      "  new_df[9997:19998].to_excel('new_shuffled_excel.xlsx', index=False)\n"
     ]
    }
   ],
   "source": [
    "new_df[9997:19998].to_excel('new_shuffled_excel.xlsx', index=False)"
   ]
  }
 ],
 "metadata": {
  "kernelspec": {
   "display_name": "Python 3",
   "language": "python",
   "name": "python3"
  },
  "language_info": {
   "codemirror_mode": {
    "name": "ipython",
    "version": 3
   },
   "file_extension": ".py",
   "mimetype": "text/x-python",
   "name": "python",
   "nbconvert_exporter": "python",
   "pygments_lexer": "ipython3",
   "version": "3.8.3"
  }
 },
 "nbformat": 4,
 "nbformat_minor": 5
}
